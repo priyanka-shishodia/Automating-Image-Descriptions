{
 "cells": [
  {
   "cell_type": "markdown",
   "metadata": {
    "id": "aUTJecbKZjrB"
   },
   "source": [
    "### Project: Generating Image Description"
   ]
  },
  {
   "cell_type": "code",
   "execution_count": 4,
   "metadata": {
    "id": "XTs0q-TgmiSt"
   },
   "outputs": [],
   "source": [
    "import numpy as np\n",
    "import pandas as pd\n",
    "import matplotlib.pyplot as plt\n",
    "\n",
    "import torch"
   ]
  },
  {
   "cell_type": "code",
   "execution_count": null,
   "metadata": {},
   "outputs": [],
   "source": [
    "from google.colab import drive\n",
    "drive.mount('/content/gdrive')"
   ]
  },
  {
   "cell_type": "code",
   "execution_count": 3,
   "metadata": {
    "colab": {
     "base_uri": "https://localhost:8080/"
    },
    "id": "K5QOJ1aomdsM",
    "outputId": "9043e411-e8a1-4cc0-af5e-bc8ff62800b4"
   },
   "outputs": [
    {
     "name": "stdout",
     "output_type": "stream",
     "text": [
      "cuda\n"
     ]
    }
   ],
   "source": [
    "num_gpus = torch.cuda.device_count()\n",
    "if num_gpus > 0:\n",
    "  device = 'cuda'\n",
    "else:\n",
    "  device = 'cpu'\n",
    "\n",
    "print(device)"
   ]
  },
  {
   "cell_type": "markdown",
   "metadata": {
    "id": "vQqEhCDonewY"
   },
   "source": [
    "### Data Preprocessing\n",
    "\n",
    "#### 1. Utility functions"
   ]
  },
  {
   "cell_type": "code",
   "execution_count": 11,
   "metadata": {
    "id": "jS2AsHKmnFdK"
   },
   "outputs": [],
   "source": [
    "# Function to load the file and read its text\n",
    "def load_caption(filename):\n",
    "  file = open(filename, 'r')\n",
    "  read_text = file.read()\n",
    "  file.close()\n",
    "  return read_text"
   ]
  },
  {
   "cell_type": "markdown",
   "metadata": {
    "id": "hC_0SbezzVW8"
   },
   "source": [
    "The text file contains raw captions for the Dataset. The first column denotes the image ID with the caption number (0 - 4)"
   ]
  },
  {
   "cell_type": "code",
   "execution_count": 22,
   "metadata": {
    "colab": {
     "base_uri": "https://localhost:8080/"
    },
    "id": "nr4I8C12ouY1",
    "outputId": "8858019c-88c4-4fc9-93b5-215d3acaad8a"
   },
   "outputs": [
    {
     "name": "stdout",
     "output_type": "stream",
     "text": [
      "1000268201_693b08cb0e.jpg#0\tA child in a pink dress is climbing up a set of stairs in an entry way .\n",
      "1000268201_693b08cb0e.jpg#1\tA girl going into a wooden building .\n",
      "1000268201_693b08cb0e.jpg#2\tA little girl climbing into a wooden playhouse .\n",
      "1000268201_693b08cb0e.jpg#3\tA little girl climbing the stairs to her playhouse .\n",
      "1000268201_693b08cb0e.jpg#4\tA little girl in a pink dress going into a wooden cabin .\n"
     ]
    }
   ],
   "source": [
    "text = load_caption('/content/gdrive/MyDrive/Deep_Learning/Flickr8k_text/Flickr8k.token.txt')\n",
    "print(text[:410])"
   ]
  },
  {
   "cell_type": "code",
   "execution_count": null,
   "metadata": {
    "id": "eYqDkHEfzyJ6"
   },
   "outputs": [],
   "source": []
  }
 ],
 "metadata": {
  "accelerator": "GPU",
  "colab": {
   "name": "DL_project.ipynb",
   "provenance": []
  },
  "kernelspec": {
   "display_name": "Python 3",
   "language": "python",
   "name": "python3"
  },
  "language_info": {
   "codemirror_mode": {
    "name": "ipython",
    "version": 3
   },
   "file_extension": ".py",
   "mimetype": "text/x-python",
   "name": "python",
   "nbconvert_exporter": "python",
   "pygments_lexer": "ipython3",
   "version": "3.8.6"
  }
 },
 "nbformat": 4,
 "nbformat_minor": 4
}
